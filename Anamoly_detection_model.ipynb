{
 "cells": [
  {
   "cell_type": "code",
   "execution_count": 1,
   "id": "9365a929-afa5-45fc-a1a4-1cc706cb0bd1",
   "metadata": {},
   "outputs": [],
   "source": [
    "import pandas as pd\n",
    "import numpy as np\n",
    "import datetime\n",
    "import seaborn as sns\n",
    "import matplotlib.pyplot as plt\n",
    "from imblearn.combine import SMOTEENN"
   ]
  },
  {
   "cell_type": "code",
   "execution_count": 2,
   "id": "e697d845-cb78-44c6-93f7-52901826d79c",
   "metadata": {},
   "outputs": [],
   "source": [
    "df = pd.read_csv(r'C:\\Users\\91916\\Desktop\\VARUN\\python_guvi\\guvi\\Datasets\\synthetic_sensor_data.csv')"
   ]
  },
  {
   "cell_type": "code",
   "execution_count": 3,
   "id": "09b6efe1-912d-4aa2-892e-8761def76a88",
   "metadata": {},
   "outputs": [
    {
     "data": {
      "text/html": [
       "<div>\n",
       "<style scoped>\n",
       "    .dataframe tbody tr th:only-of-type {\n",
       "        vertical-align: middle;\n",
       "    }\n",
       "\n",
       "    .dataframe tbody tr th {\n",
       "        vertical-align: top;\n",
       "    }\n",
       "\n",
       "    .dataframe thead th {\n",
       "        text-align: right;\n",
       "    }\n",
       "</style>\n",
       "<table border=\"1\" class=\"dataframe\">\n",
       "  <thead>\n",
       "    <tr style=\"text-align: right;\">\n",
       "      <th></th>\n",
       "      <th>Timestamp</th>\n",
       "      <th>Temperature</th>\n",
       "      <th>Anomaly</th>\n",
       "      <th>Location</th>\n",
       "    </tr>\n",
       "  </thead>\n",
       "  <tbody>\n",
       "    <tr>\n",
       "      <th>0</th>\n",
       "      <td>2024-06-01 19:50:28</td>\n",
       "      <td>24.476332</td>\n",
       "      <td>0</td>\n",
       "      <td>SensorB</td>\n",
       "    </tr>\n",
       "    <tr>\n",
       "      <th>1</th>\n",
       "      <td>2024-06-01 19:50:28</td>\n",
       "      <td>18.253966</td>\n",
       "      <td>0</td>\n",
       "      <td>SensorA</td>\n",
       "    </tr>\n",
       "    <tr>\n",
       "      <th>2</th>\n",
       "      <td>2024-06-01 19:50:28</td>\n",
       "      <td>14.953520</td>\n",
       "      <td>0</td>\n",
       "      <td>SensorB</td>\n",
       "    </tr>\n",
       "    <tr>\n",
       "      <th>3</th>\n",
       "      <td>2024-06-01 19:50:28</td>\n",
       "      <td>17.667181</td>\n",
       "      <td>0</td>\n",
       "      <td>SensorA</td>\n",
       "    </tr>\n",
       "    <tr>\n",
       "      <th>4</th>\n",
       "      <td>2024-06-01 19:50:28</td>\n",
       "      <td>17.079826</td>\n",
       "      <td>0</td>\n",
       "      <td>SensorA</td>\n",
       "    </tr>\n",
       "    <tr>\n",
       "      <th>...</th>\n",
       "      <td>...</td>\n",
       "      <td>...</td>\n",
       "      <td>...</td>\n",
       "      <td>...</td>\n",
       "    </tr>\n",
       "    <tr>\n",
       "      <th>9995</th>\n",
       "      <td>2024-06-01 19:50:29</td>\n",
       "      <td>26.460733</td>\n",
       "      <td>0</td>\n",
       "      <td>SensorA</td>\n",
       "    </tr>\n",
       "    <tr>\n",
       "      <th>9996</th>\n",
       "      <td>2024-06-01 19:50:29</td>\n",
       "      <td>22.027875</td>\n",
       "      <td>0</td>\n",
       "      <td>NaN</td>\n",
       "    </tr>\n",
       "    <tr>\n",
       "      <th>9997</th>\n",
       "      <td>2024-06-01 19:50:29</td>\n",
       "      <td>17.917821</td>\n",
       "      <td>0</td>\n",
       "      <td>SensorA</td>\n",
       "    </tr>\n",
       "    <tr>\n",
       "      <th>9998</th>\n",
       "      <td>2024-06-01 19:50:29</td>\n",
       "      <td>23.730639</td>\n",
       "      <td>0</td>\n",
       "      <td>SensorB</td>\n",
       "    </tr>\n",
       "    <tr>\n",
       "      <th>9999</th>\n",
       "      <td>2024-06-01 19:50:29</td>\n",
       "      <td>25.680470</td>\n",
       "      <td>0</td>\n",
       "      <td>NaN</td>\n",
       "    </tr>\n",
       "  </tbody>\n",
       "</table>\n",
       "<p>10000 rows × 4 columns</p>\n",
       "</div>"
      ],
      "text/plain": [
       "                Timestamp  Temperature  Anomaly Location\n",
       "0     2024-06-01 19:50:28    24.476332        0  SensorB\n",
       "1     2024-06-01 19:50:28    18.253966        0  SensorA\n",
       "2     2024-06-01 19:50:28    14.953520        0  SensorB\n",
       "3     2024-06-01 19:50:28    17.667181        0  SensorA\n",
       "4     2024-06-01 19:50:28    17.079826        0  SensorA\n",
       "...                   ...          ...      ...      ...\n",
       "9995  2024-06-01 19:50:29    26.460733        0  SensorA\n",
       "9996  2024-06-01 19:50:29    22.027875        0      NaN\n",
       "9997  2024-06-01 19:50:29    17.917821        0  SensorA\n",
       "9998  2024-06-01 19:50:29    23.730639        0  SensorB\n",
       "9999  2024-06-01 19:50:29    25.680470        0      NaN\n",
       "\n",
       "[10000 rows x 4 columns]"
      ]
     },
     "execution_count": 3,
     "metadata": {},
     "output_type": "execute_result"
    }
   ],
   "source": [
    "df"
   ]
  },
  {
   "cell_type": "code",
   "execution_count": 4,
   "id": "82096b52-d2b5-4a53-913a-4ad56adaf021",
   "metadata": {},
   "outputs": [
    {
     "name": "stdout",
     "output_type": "stream",
     "text": [
      "<class 'pandas.core.frame.DataFrame'>\n",
      "RangeIndex: 10000 entries, 0 to 9999\n",
      "Data columns (total 4 columns):\n",
      " #   Column       Non-Null Count  Dtype  \n",
      "---  ------       --------------  -----  \n",
      " 0   Timestamp    10000 non-null  object \n",
      " 1   Temperature  10000 non-null  float64\n",
      " 2   Anomaly      10000 non-null  int64  \n",
      " 3   Location     6704 non-null   object \n",
      "dtypes: float64(1), int64(1), object(2)\n",
      "memory usage: 312.6+ KB\n"
     ]
    }
   ],
   "source": [
    "df.info()"
   ]
  },
  {
   "cell_type": "code",
   "execution_count": 5,
   "id": "9c5c31fe-6f33-4e66-bb2e-c29f167c47b0",
   "metadata": {},
   "outputs": [
    {
     "data": {
      "text/plain": [
       "Timestamp         0\n",
       "Temperature       0\n",
       "Anomaly           0\n",
       "Location       3296\n",
       "dtype: int64"
      ]
     },
     "execution_count": 5,
     "metadata": {},
     "output_type": "execute_result"
    }
   ],
   "source": [
    "df.isnull().sum()"
   ]
  },
  {
   "cell_type": "code",
   "execution_count": 6,
   "id": "b09cff85-f95f-4482-9892-358136d94fc8",
   "metadata": {},
   "outputs": [
    {
     "data": {
      "text/plain": [
       "0    SensorB\n",
       "Name: Location, dtype: object"
      ]
     },
     "execution_count": 6,
     "metadata": {},
     "output_type": "execute_result"
    }
   ],
   "source": [
    "df['Location'].mode()"
   ]
  },
  {
   "cell_type": "code",
   "execution_count": 7,
   "id": "cc1ec187-8b28-44c3-b08d-41cd3d87a34b",
   "metadata": {},
   "outputs": [
    {
     "data": {
      "image/png": "[encoded data removed]",
      "text/plain": [
       "<Figure size 640x480 with 1 Axes>"
      ]
     },
     "metadata": {},
     "output_type": "display_data"
    }
   ],
   "source": [
    "sns.countplot(x='Location', data=df)\n",
    "plt.title('Bar Chart of Categories')\n",
    "plt.xlabel('Category')\n",
    "plt.show()"
   ]
  },
  {
   "cell_type": "code",
   "execution_count": 8,
   "id": "6dfc7bd8-3d2c-4a8c-854b-d34009af08d2",
   "metadata": {},
   "outputs": [
    {
     "name": "stdout",
     "output_type": "stream",
     "text": [
      "\n",
      "DataFrame after filling null values randomly with two types of data:\n",
      "                Timestamp  Temperature  Anomaly Location\n",
      "0     2024-06-01 19:50:28    24.476332        0  SensorB\n",
      "1     2024-06-01 19:50:28    18.253966        0  SensorA\n",
      "2     2024-06-01 19:50:28    14.953520        0  SensorB\n",
      "3     2024-06-01 19:50:28    17.667181        0  SensorA\n",
      "4     2024-06-01 19:50:28    17.079826        0  SensorA\n",
      "...                   ...          ...      ...      ...\n",
      "9995  2024-06-01 19:50:29    26.460733        0  SensorA\n",
      "9996  2024-06-01 19:50:29    22.027875        0  SensorA\n",
      "9997  2024-06-01 19:50:29    17.917821        0  SensorA\n",
      "9998  2024-06-01 19:50:29    23.730639        0  SensorB\n",
      "9999  2024-06-01 19:50:29    25.680470        0  SensorB\n",
      "\n",
      "[10000 rows x 4 columns]\n"
     ]
    }
   ],
   "source": [
    "# Step 1: Identify the column with null values\n",
    "null_column = 'Location'\n",
    "\n",
    "# Step 2: Generate random choices to fill null values\n",
    "# Define the two types of data you want to use\n",
    "choices = ['SensorA', 'SensorB']\n",
    "\n",
    "# Generate random choices for the number of null values\n",
    "random_choices = np.random.choice(choices, size=df[null_column].isnull().sum())\n",
    "\n",
    "# Step 3: Fill the null values with the random choices\n",
    "df.loc[df[null_column].isnull(), null_column] = random_choices\n",
    "\n",
    "print(\"\\nDataFrame after filling null values randomly with two types of data:\")\n",
    "print(df)\n"
   ]
  },
  {
   "cell_type": "code",
   "execution_count": 9,
   "id": "6c7ad096-02ec-4fc7-9725-fe28dda8363c",
   "metadata": {},
   "outputs": [
    {
     "data": {
      "text/plain": [
       "Timestamp      0\n",
       "Temperature    0\n",
       "Anomaly        0\n",
       "Location       0\n",
       "dtype: int64"
      ]
     },
     "execution_count": 9,
     "metadata": {},
     "output_type": "execute_result"
    }
   ],
   "source": [
    "df.isnull().sum()"
   ]
  },
  {
   "cell_type": "code",
   "execution_count": 10,
   "id": "75fc7e4a-3985-41fe-8db4-0e4190863875",
   "metadata": {},
   "outputs": [
    {
     "data": {
      "text/plain": [
       "array(['2024-06-01 19:50:28', '2024-06-01 19:50:29'], dtype=object)"
      ]
     },
     "execution_count": 10,
     "metadata": {},
     "output_type": "execute_result"
    }
   ],
   "source": [
    "df['Timestamp'].unique()"
   ]
  },
  {
   "cell_type": "code",
   "execution_count": 11,
   "id": "774fa84b-a260-431e-a9c4-99f59b980ee2",
   "metadata": {},
   "outputs": [
    {
     "data": {
      "text/plain": [
       "Timestamp\n",
       "2024-06-01 19:50:29    9802\n",
       "2024-06-01 19:50:28     198\n",
       "Name: count, dtype: int64"
      ]
     },
     "execution_count": 11,
     "metadata": {},
     "output_type": "execute_result"
    }
   ],
   "source": [
    "df.Timestamp.value_counts()"
   ]
  },
  {
   "cell_type": "code",
   "execution_count": 12,
   "id": "8d963dcf-8562-47e3-9153-fa2eb9c81c98",
   "metadata": {},
   "outputs": [
    {
     "data": {
      "text/plain": [
       "array(['SensorB', 'SensorA'], dtype=object)"
      ]
     },
     "execution_count": 12,
     "metadata": {},
     "output_type": "execute_result"
    }
   ],
   "source": [
    "df['Location'].unique()"
   ]
  },
  {
   "cell_type": "code",
   "execution_count": 13,
   "id": "6f2a4c5e-b792-4093-9d98-3dc4edb1eb11",
   "metadata": {},
   "outputs": [
    {
     "name": "stderr",
     "output_type": "stream",
     "text": [
      "C:\\Users\\91916\\AppData\\Local\\Temp\\ipykernel_14800\\143652361.py:2: FutureWarning: Downcasting behavior in `replace` is deprecated and will be removed in a future version. To retain the old behavior, explicitly call `result.infer_objects(copy=False)`. To opt-in to the future behavior, set `pd.set_option('future.no_silent_downcasting', True)`\n",
      "  df.replace({'Location': mapping}, inplace=True)\n"
     ]
    }
   ],
   "source": [
    "mapping = {'SensorA' : 0, 'SensorB' : 1}\n",
    "df.replace({'Location': mapping}, inplace=True)"
   ]
  },
  {
   "cell_type": "code",
   "execution_count": 14,
   "id": "c7003887-df21-40a5-a96d-ec3f64676d79",
   "metadata": {},
   "outputs": [
    {
     "data": {
      "text/plain": [
       "array([1, 0], dtype=int64)"
      ]
     },
     "execution_count": 14,
     "metadata": {},
     "output_type": "execute_result"
    }
   ],
   "source": [
    "df['Location'].unique()"
   ]
  },
  {
   "cell_type": "code",
   "execution_count": 15,
   "id": "19ea176b-66ec-4eba-a953-e6ea386f9085",
   "metadata": {},
   "outputs": [
    {
     "name": "stdout",
     "output_type": "stream",
     "text": [
      "<class 'pandas.core.frame.DataFrame'>\n",
      "RangeIndex: 10000 entries, 0 to 9999\n",
      "Data columns (total 4 columns):\n",
      " #   Column       Non-Null Count  Dtype  \n",
      "---  ------       --------------  -----  \n",
      " 0   Timestamp    10000 non-null  object \n",
      " 1   Temperature  10000 non-null  float64\n",
      " 2   Anomaly      10000 non-null  int64  \n",
      " 3   Location     10000 non-null  int64  \n",
      "dtypes: float64(1), int64(2), object(1)\n",
      "memory usage: 312.6+ KB\n"
     ]
    }
   ],
   "source": [
    "df.info()"
   ]
  },
  {
   "cell_type": "code",
   "execution_count": 16,
   "id": "cb92c1af-a4ad-4745-bf30-493e5ad44604",
   "metadata": {},
   "outputs": [],
   "source": [
    "# find outliers - box plot & skewed data - hist plot and violin plot\n",
    "\n",
    "def plot(df, column):\n",
    "    plt.figure(figsize=(20,5))\n",
    "    plt.subplot(1,3,1)\n",
    "    sns.boxplot(data=df, x=column)\n",
    "    plt.title(f'Box Plot for {column}')\n",
    "\n",
    "    plt.subplot(1,3,2)\n",
    "    sns.histplot(data=df, x=column, kde=True, bins=50)\n",
    "    plt.title(f'Distribution Plot for {column}')\n",
    "\n",
    "    plt.subplot(1,3,3)\n",
    "    sns.violinplot(data=df, x=column)\n",
    "    plt.title(f'Violin Plot for {column}')\n",
    "    plt.show()"
   ]
  },
  {
   "cell_type": "code",
   "execution_count": 17,
   "id": "6e3b0d65-2e95-4239-b17d-571bd7118280",
   "metadata": {},
   "outputs": [
    {
     "data": {
      "image/png": "[encoded data removed]",
      "text/plain": [
       "<Figure size 2000x500 with 3 Axes>"
      ]
     },
     "metadata": {},
     "output_type": "display_data"
    },
    {
     "data": {
      "image/png": "[encoded data removed]",
      "text/plain": [
       "<Figure size 2000x500 with 3 Axes>"
      ]
     },
     "metadata": {},
     "output_type": "display_data"
    }
   ],
   "source": [
    "for i in ['Temperature','Location']:\n",
    "    plot(df, i)"
   ]
  },
  {
   "cell_type": "code",
   "execution_count": 18,
   "id": "a6722060-4385-403b-b356-d7c15c5858af",
   "metadata": {},
   "outputs": [
    {
     "data": {
      "text/html": [
       "<div>\n",
       "<style scoped>\n",
       "    .dataframe tbody tr th:only-of-type {\n",
       "        vertical-align: middle;\n",
       "    }\n",
       "\n",
       "    .dataframe tbody tr th {\n",
       "        vertical-align: top;\n",
       "    }\n",
       "\n",
       "    .dataframe thead th {\n",
       "        text-align: right;\n",
       "    }\n",
       "</style>\n",
       "<table border=\"1\" class=\"dataframe\">\n",
       "  <thead>\n",
       "    <tr style=\"text-align: right;\">\n",
       "      <th></th>\n",
       "      <th>Timestamp</th>\n",
       "      <th>Temperature</th>\n",
       "      <th>Anomaly</th>\n",
       "      <th>Location</th>\n",
       "    </tr>\n",
       "  </thead>\n",
       "  <tbody>\n",
       "    <tr>\n",
       "      <th>0</th>\n",
       "      <td>2024-06-01 19:50:28</td>\n",
       "      <td>24.476332</td>\n",
       "      <td>0</td>\n",
       "      <td>1</td>\n",
       "    </tr>\n",
       "    <tr>\n",
       "      <th>1</th>\n",
       "      <td>2024-06-01 19:50:28</td>\n",
       "      <td>18.253966</td>\n",
       "      <td>0</td>\n",
       "      <td>0</td>\n",
       "    </tr>\n",
       "    <tr>\n",
       "      <th>2</th>\n",
       "      <td>2024-06-01 19:50:28</td>\n",
       "      <td>14.953520</td>\n",
       "      <td>0</td>\n",
       "      <td>1</td>\n",
       "    </tr>\n",
       "    <tr>\n",
       "      <th>3</th>\n",
       "      <td>2024-06-01 19:50:28</td>\n",
       "      <td>17.667181</td>\n",
       "      <td>0</td>\n",
       "      <td>0</td>\n",
       "    </tr>\n",
       "    <tr>\n",
       "      <th>4</th>\n",
       "      <td>2024-06-01 19:50:28</td>\n",
       "      <td>17.079826</td>\n",
       "      <td>0</td>\n",
       "      <td>0</td>\n",
       "    </tr>\n",
       "    <tr>\n",
       "      <th>...</th>\n",
       "      <td>...</td>\n",
       "      <td>...</td>\n",
       "      <td>...</td>\n",
       "      <td>...</td>\n",
       "    </tr>\n",
       "    <tr>\n",
       "      <th>9995</th>\n",
       "      <td>2024-06-01 19:50:29</td>\n",
       "      <td>26.460733</td>\n",
       "      <td>0</td>\n",
       "      <td>0</td>\n",
       "    </tr>\n",
       "    <tr>\n",
       "      <th>9996</th>\n",
       "      <td>2024-06-01 19:50:29</td>\n",
       "      <td>22.027875</td>\n",
       "      <td>0</td>\n",
       "      <td>0</td>\n",
       "    </tr>\n",
       "    <tr>\n",
       "      <th>9997</th>\n",
       "      <td>2024-06-01 19:50:29</td>\n",
       "      <td>17.917821</td>\n",
       "      <td>0</td>\n",
       "      <td>0</td>\n",
       "    </tr>\n",
       "    <tr>\n",
       "      <th>9998</th>\n",
       "      <td>2024-06-01 19:50:29</td>\n",
       "      <td>23.730639</td>\n",
       "      <td>0</td>\n",
       "      <td>1</td>\n",
       "    </tr>\n",
       "    <tr>\n",
       "      <th>9999</th>\n",
       "      <td>2024-06-01 19:50:29</td>\n",
       "      <td>25.680470</td>\n",
       "      <td>0</td>\n",
       "      <td>1</td>\n",
       "    </tr>\n",
       "  </tbody>\n",
       "</table>\n",
       "<p>10000 rows × 4 columns</p>\n",
       "</div>"
      ],
      "text/plain": [
       "                Timestamp  Temperature  Anomaly  Location\n",
       "0     2024-06-01 19:50:28    24.476332        0         1\n",
       "1     2024-06-01 19:50:28    18.253966        0         0\n",
       "2     2024-06-01 19:50:28    14.953520        0         1\n",
       "3     2024-06-01 19:50:28    17.667181        0         0\n",
       "4     2024-06-01 19:50:28    17.079826        0         0\n",
       "...                   ...          ...      ...       ...\n",
       "9995  2024-06-01 19:50:29    26.460733        0         0\n",
       "9996  2024-06-01 19:50:29    22.027875        0         0\n",
       "9997  2024-06-01 19:50:29    17.917821        0         0\n",
       "9998  2024-06-01 19:50:29    23.730639        0         1\n",
       "9999  2024-06-01 19:50:29    25.680470        0         1\n",
       "\n",
       "[10000 rows x 4 columns]"
      ]
     },
     "execution_count": 18,
     "metadata": {},
     "output_type": "execute_result"
    }
   ],
   "source": [
    "df1 = df.copy()\n",
    "df1"
   ]
  },
  {
   "cell_type": "code",
   "execution_count": 19,
   "id": "c32a15ed-a1c3-4fa6-bf27-54539700cfed",
   "metadata": {},
   "outputs": [],
   "source": [
    "# Using IQR and clip() methods to handle the outliers and add a new column of dataframe\n",
    "\n",
    "def outlier(df, column):\n",
    "    iqr = df[column].quantile(0.75) - df[column].quantile(0.25)\n",
    "    upper_threshold = df[column].quantile(0.75) + (1.5*iqr)\n",
    "    lower_threshold = df[column].quantile(0.25) - (1.5*iqr)\n",
    "    df[column] = df[column].clip(lower_threshold, upper_threshold)"
   ]
  },
  {
   "cell_type": "code",
   "execution_count": 20,
   "id": "88758f8a-6e38-445a-8f1c-5f1fc85dcd27",
   "metadata": {},
   "outputs": [
    {
     "data": {
      "text/html": [
       "<div>\n",
       "<style scoped>\n",
       "    .dataframe tbody tr th:only-of-type {\n",
       "        vertical-align: middle;\n",
       "    }\n",
       "\n",
       "    .dataframe tbody tr th {\n",
       "        vertical-align: top;\n",
       "    }\n",
       "\n",
       "    .dataframe thead th {\n",
       "        text-align: right;\n",
       "    }\n",
       "</style>\n",
       "<table border=\"1\" class=\"dataframe\">\n",
       "  <thead>\n",
       "    <tr style=\"text-align: right;\">\n",
       "      <th></th>\n",
       "      <th>Timestamp</th>\n",
       "      <th>Temperature</th>\n",
       "      <th>Anomaly</th>\n",
       "      <th>Location</th>\n",
       "    </tr>\n",
       "  </thead>\n",
       "  <tbody>\n",
       "    <tr>\n",
       "      <th>0</th>\n",
       "      <td>2024-06-01 19:50:28</td>\n",
       "      <td>24.476332</td>\n",
       "      <td>0</td>\n",
       "      <td>1</td>\n",
       "    </tr>\n",
       "    <tr>\n",
       "      <th>1</th>\n",
       "      <td>2024-06-01 19:50:28</td>\n",
       "      <td>18.253966</td>\n",
       "      <td>0</td>\n",
       "      <td>0</td>\n",
       "    </tr>\n",
       "    <tr>\n",
       "      <th>2</th>\n",
       "      <td>2024-06-01 19:50:28</td>\n",
       "      <td>14.953520</td>\n",
       "      <td>0</td>\n",
       "      <td>1</td>\n",
       "    </tr>\n",
       "    <tr>\n",
       "      <th>3</th>\n",
       "      <td>2024-06-01 19:50:28</td>\n",
       "      <td>17.667181</td>\n",
       "      <td>0</td>\n",
       "      <td>0</td>\n",
       "    </tr>\n",
       "    <tr>\n",
       "      <th>4</th>\n",
       "      <td>2024-06-01 19:50:28</td>\n",
       "      <td>17.079826</td>\n",
       "      <td>0</td>\n",
       "      <td>0</td>\n",
       "    </tr>\n",
       "    <tr>\n",
       "      <th>...</th>\n",
       "      <td>...</td>\n",
       "      <td>...</td>\n",
       "      <td>...</td>\n",
       "      <td>...</td>\n",
       "    </tr>\n",
       "    <tr>\n",
       "      <th>9995</th>\n",
       "      <td>2024-06-01 19:50:29</td>\n",
       "      <td>26.460733</td>\n",
       "      <td>0</td>\n",
       "      <td>0</td>\n",
       "    </tr>\n",
       "    <tr>\n",
       "      <th>9996</th>\n",
       "      <td>2024-06-01 19:50:29</td>\n",
       "      <td>22.027875</td>\n",
       "      <td>0</td>\n",
       "      <td>0</td>\n",
       "    </tr>\n",
       "    <tr>\n",
       "      <th>9997</th>\n",
       "      <td>2024-06-01 19:50:29</td>\n",
       "      <td>17.917821</td>\n",
       "      <td>0</td>\n",
       "      <td>0</td>\n",
       "    </tr>\n",
       "    <tr>\n",
       "      <th>9998</th>\n",
       "      <td>2024-06-01 19:50:29</td>\n",
       "      <td>23.730639</td>\n",
       "      <td>0</td>\n",
       "      <td>1</td>\n",
       "    </tr>\n",
       "    <tr>\n",
       "      <th>9999</th>\n",
       "      <td>2024-06-01 19:50:29</td>\n",
       "      <td>25.680470</td>\n",
       "      <td>0</td>\n",
       "      <td>1</td>\n",
       "    </tr>\n",
       "  </tbody>\n",
       "</table>\n",
       "<p>10000 rows × 4 columns</p>\n",
       "</div>"
      ],
      "text/plain": [
       "                Timestamp  Temperature  Anomaly  Location\n",
       "0     2024-06-01 19:50:28    24.476332        0         1\n",
       "1     2024-06-01 19:50:28    18.253966        0         0\n",
       "2     2024-06-01 19:50:28    14.953520        0         1\n",
       "3     2024-06-01 19:50:28    17.667181        0         0\n",
       "4     2024-06-01 19:50:28    17.079826        0         0\n",
       "...                   ...          ...      ...       ...\n",
       "9995  2024-06-01 19:50:29    26.460733        0         0\n",
       "9996  2024-06-01 19:50:29    22.027875        0         0\n",
       "9997  2024-06-01 19:50:29    17.917821        0         0\n",
       "9998  2024-06-01 19:50:29    23.730639        0         1\n",
       "9999  2024-06-01 19:50:29    25.680470        0         1\n",
       "\n",
       "[10000 rows x 4 columns]"
      ]
     },
     "execution_count": 20,
     "metadata": {},
     "output_type": "execute_result"
    }
   ],
   "source": [
    "outlier(df1,'Temperature')\n",
    "df1"
   ]
  },
  {
   "cell_type": "code",
   "execution_count": 21,
   "id": "829c0f27-cb9a-404c-b8b3-cc26336630bb",
   "metadata": {},
   "outputs": [
    {
     "data": {
      "image/png": "[encoded data removed]",
      "text/plain": [
       "<Figure size 2000x500 with 3 Axes>"
      ]
     },
     "metadata": {},
     "output_type": "display_data"
    },
    {
     "data": {
      "image/png": "[encoded data removed]",
      "text/plain": [
       "<Figure size 2000x500 with 3 Axes>"
      ]
     },
     "metadata": {},
     "output_type": "display_data"
    }
   ],
   "source": [
    "for i in ['Temperature','Location']:\n",
    "    plot(df1, i)"
   ]
  },
  {
   "cell_type": "code",
   "execution_count": 22,
   "id": "515eb0f8-fbaf-468b-b3ec-dba170bee709",
   "metadata": {},
   "outputs": [
    {
     "data": {
      "text/html": [
       "<div>\n",
       "<style scoped>\n",
       "    .dataframe tbody tr th:only-of-type {\n",
       "        vertical-align: middle;\n",
       "    }\n",
       "\n",
       "    .dataframe tbody tr th {\n",
       "        vertical-align: top;\n",
       "    }\n",
       "\n",
       "    .dataframe thead th {\n",
       "        text-align: right;\n",
       "    }\n",
       "</style>\n",
       "<table border=\"1\" class=\"dataframe\">\n",
       "  <thead>\n",
       "    <tr style=\"text-align: right;\">\n",
       "      <th></th>\n",
       "      <th>count</th>\n",
       "      <th>mean</th>\n",
       "      <th>std</th>\n",
       "      <th>min</th>\n",
       "      <th>25%</th>\n",
       "      <th>50%</th>\n",
       "      <th>75%</th>\n",
       "      <th>max</th>\n",
       "    </tr>\n",
       "  </thead>\n",
       "  <tbody>\n",
       "    <tr>\n",
       "      <th>Temperature</th>\n",
       "      <td>10000.0</td>\n",
       "      <td>25.302077</td>\n",
       "      <td>5.356560</td>\n",
       "      <td>11.368729</td>\n",
       "      <td>21.736465</td>\n",
       "      <td>25.152475</td>\n",
       "      <td>28.648289</td>\n",
       "      <td>39.016025</td>\n",
       "    </tr>\n",
       "    <tr>\n",
       "      <th>Anomaly</th>\n",
       "      <td>10000.0</td>\n",
       "      <td>0.022900</td>\n",
       "      <td>0.149592</td>\n",
       "      <td>0.000000</td>\n",
       "      <td>0.000000</td>\n",
       "      <td>0.000000</td>\n",
       "      <td>0.000000</td>\n",
       "      <td>1.000000</td>\n",
       "    </tr>\n",
       "    <tr>\n",
       "      <th>Location</th>\n",
       "      <td>10000.0</td>\n",
       "      <td>0.504400</td>\n",
       "      <td>0.500006</td>\n",
       "      <td>0.000000</td>\n",
       "      <td>0.000000</td>\n",
       "      <td>1.000000</td>\n",
       "      <td>1.000000</td>\n",
       "      <td>1.000000</td>\n",
       "    </tr>\n",
       "  </tbody>\n",
       "</table>\n",
       "</div>"
      ],
      "text/plain": [
       "               count       mean       std        min        25%        50%  \\\n",
       "Temperature  10000.0  25.302077  5.356560  11.368729  21.736465  25.152475   \n",
       "Anomaly      10000.0   0.022900  0.149592   0.000000   0.000000   0.000000   \n",
       "Location     10000.0   0.504400  0.500006   0.000000   0.000000   1.000000   \n",
       "\n",
       "                   75%        max  \n",
       "Temperature  28.648289  39.016025  \n",
       "Anomaly       0.000000   1.000000  \n",
       "Location      1.000000   1.000000  "
      ]
     },
     "execution_count": 22,
     "metadata": {},
     "output_type": "execute_result"
    }
   ],
   "source": [
    "df1.describe().T"
   ]
  },
  {
   "cell_type": "code",
   "execution_count": 23,
   "id": "b1b7e359-9828-4b32-a825-93dc9b5bf809",
   "metadata": {},
   "outputs": [
    {
     "data": {
      "text/plain": [
       "Timestamp       object\n",
       "Temperature    float64\n",
       "Anomaly          int64\n",
       "Location         int64\n",
       "dtype: object"
      ]
     },
     "execution_count": 23,
     "metadata": {},
     "output_type": "execute_result"
    }
   ],
   "source": [
    "df1.dtypes"
   ]
  },
  {
   "cell_type": "code",
   "execution_count": 24,
   "id": "c5527b5c-9ff1-4a1f-a8f7-7f44973e4e9a",
   "metadata": {},
   "outputs": [
    {
     "data": {
      "text/html": [
       "<div>\n",
       "<style scoped>\n",
       "    .dataframe tbody tr th:only-of-type {\n",
       "        vertical-align: middle;\n",
       "    }\n",
       "\n",
       "    .dataframe tbody tr th {\n",
       "        vertical-align: top;\n",
       "    }\n",
       "\n",
       "    .dataframe thead th {\n",
       "        text-align: right;\n",
       "    }\n",
       "</style>\n",
       "<table border=\"1\" class=\"dataframe\">\n",
       "  <thead>\n",
       "    <tr style=\"text-align: right;\">\n",
       "      <th></th>\n",
       "      <th>Timestamp</th>\n",
       "      <th>Temperature</th>\n",
       "      <th>Anomaly</th>\n",
       "      <th>Location</th>\n",
       "    </tr>\n",
       "  </thead>\n",
       "  <tbody>\n",
       "    <tr>\n",
       "      <th>0</th>\n",
       "      <td>2024-06-01 19:50:28</td>\n",
       "      <td>24.476332</td>\n",
       "      <td>0</td>\n",
       "      <td>1</td>\n",
       "    </tr>\n",
       "    <tr>\n",
       "      <th>1</th>\n",
       "      <td>2024-06-01 19:50:28</td>\n",
       "      <td>18.253966</td>\n",
       "      <td>0</td>\n",
       "      <td>0</td>\n",
       "    </tr>\n",
       "    <tr>\n",
       "      <th>2</th>\n",
       "      <td>2024-06-01 19:50:28</td>\n",
       "      <td>14.953520</td>\n",
       "      <td>0</td>\n",
       "      <td>1</td>\n",
       "    </tr>\n",
       "    <tr>\n",
       "      <th>3</th>\n",
       "      <td>2024-06-01 19:50:28</td>\n",
       "      <td>17.667181</td>\n",
       "      <td>0</td>\n",
       "      <td>0</td>\n",
       "    </tr>\n",
       "    <tr>\n",
       "      <th>4</th>\n",
       "      <td>2024-06-01 19:50:28</td>\n",
       "      <td>17.079826</td>\n",
       "      <td>0</td>\n",
       "      <td>0</td>\n",
       "    </tr>\n",
       "    <tr>\n",
       "      <th>...</th>\n",
       "      <td>...</td>\n",
       "      <td>...</td>\n",
       "      <td>...</td>\n",
       "      <td>...</td>\n",
       "    </tr>\n",
       "    <tr>\n",
       "      <th>9995</th>\n",
       "      <td>2024-06-01 19:50:29</td>\n",
       "      <td>26.460733</td>\n",
       "      <td>0</td>\n",
       "      <td>0</td>\n",
       "    </tr>\n",
       "    <tr>\n",
       "      <th>9996</th>\n",
       "      <td>2024-06-01 19:50:29</td>\n",
       "      <td>22.027875</td>\n",
       "      <td>0</td>\n",
       "      <td>0</td>\n",
       "    </tr>\n",
       "    <tr>\n",
       "      <th>9997</th>\n",
       "      <td>2024-06-01 19:50:29</td>\n",
       "      <td>17.917821</td>\n",
       "      <td>0</td>\n",
       "      <td>0</td>\n",
       "    </tr>\n",
       "    <tr>\n",
       "      <th>9998</th>\n",
       "      <td>2024-06-01 19:50:29</td>\n",
       "      <td>23.730639</td>\n",
       "      <td>0</td>\n",
       "      <td>1</td>\n",
       "    </tr>\n",
       "    <tr>\n",
       "      <th>9999</th>\n",
       "      <td>2024-06-01 19:50:29</td>\n",
       "      <td>25.680470</td>\n",
       "      <td>0</td>\n",
       "      <td>1</td>\n",
       "    </tr>\n",
       "  </tbody>\n",
       "</table>\n",
       "<p>10000 rows × 4 columns</p>\n",
       "</div>"
      ],
      "text/plain": [
       "                Timestamp  Temperature  Anomaly  Location\n",
       "0     2024-06-01 19:50:28    24.476332        0         1\n",
       "1     2024-06-01 19:50:28    18.253966        0         0\n",
       "2     2024-06-01 19:50:28    14.953520        0         1\n",
       "3     2024-06-01 19:50:28    17.667181        0         0\n",
       "4     2024-06-01 19:50:28    17.079826        0         0\n",
       "...                   ...          ...      ...       ...\n",
       "9995  2024-06-01 19:50:29    26.460733        0         0\n",
       "9996  2024-06-01 19:50:29    22.027875        0         0\n",
       "9997  2024-06-01 19:50:29    17.917821        0         0\n",
       "9998  2024-06-01 19:50:29    23.730639        0         1\n",
       "9999  2024-06-01 19:50:29    25.680470        0         1\n",
       "\n",
       "[10000 rows x 4 columns]"
      ]
     },
     "execution_count": 24,
     "metadata": {},
     "output_type": "execute_result"
    }
   ],
   "source": [
    "df2 = df1.copy()\n",
    "df2"
   ]
  },
  {
   "cell_type": "code",
   "execution_count": 25,
   "id": "4fae770d-567e-4096-a9e2-c0cf245d4251",
   "metadata": {},
   "outputs": [],
   "source": [
    "df2['date_time'] = pd.to_datetime(df2['Timestamp'])"
   ]
  },
  {
   "cell_type": "code",
   "execution_count": 26,
   "id": "64d6af4b-e8e4-4e61-81f6-1372cf536ef6",
   "metadata": {},
   "outputs": [
    {
     "data": {
      "text/plain": [
       "Timestamp              object\n",
       "Temperature           float64\n",
       "Anomaly                 int64\n",
       "Location                int64\n",
       "date_time      datetime64[ns]\n",
       "dtype: object"
      ]
     },
     "execution_count": 26,
     "metadata": {},
     "output_type": "execute_result"
    }
   ],
   "source": [
    "df2.dtypes"
   ]
  },
  {
   "cell_type": "code",
   "execution_count": 27,
   "id": "1f02aca8-1ecd-4d0b-8e47-fcbd926a3254",
   "metadata": {},
   "outputs": [
    {
     "data": {
      "text/html": [
       "<div>\n",
       "<style scoped>\n",
       "    .dataframe tbody tr th:only-of-type {\n",
       "        vertical-align: middle;\n",
       "    }\n",
       "\n",
       "    .dataframe tbody tr th {\n",
       "        vertical-align: top;\n",
       "    }\n",
       "\n",
       "    .dataframe thead th {\n",
       "        text-align: right;\n",
       "    }\n",
       "</style>\n",
       "<table border=\"1\" class=\"dataframe\">\n",
       "  <thead>\n",
       "    <tr style=\"text-align: right;\">\n",
       "      <th></th>\n",
       "      <th>Temperature</th>\n",
       "      <th>Anomaly</th>\n",
       "      <th>Location</th>\n",
       "      <th>date_time</th>\n",
       "    </tr>\n",
       "  </thead>\n",
       "  <tbody>\n",
       "    <tr>\n",
       "      <th>0</th>\n",
       "      <td>24.476332</td>\n",
       "      <td>0</td>\n",
       "      <td>1</td>\n",
       "      <td>2024-06-01 19:50:28</td>\n",
       "    </tr>\n",
       "    <tr>\n",
       "      <th>1</th>\n",
       "      <td>18.253966</td>\n",
       "      <td>0</td>\n",
       "      <td>0</td>\n",
       "      <td>2024-06-01 19:50:28</td>\n",
       "    </tr>\n",
       "    <tr>\n",
       "      <th>2</th>\n",
       "      <td>14.953520</td>\n",
       "      <td>0</td>\n",
       "      <td>1</td>\n",
       "      <td>2024-06-01 19:50:28</td>\n",
       "    </tr>\n",
       "    <tr>\n",
       "      <th>3</th>\n",
       "      <td>17.667181</td>\n",
       "      <td>0</td>\n",
       "      <td>0</td>\n",
       "      <td>2024-06-01 19:50:28</td>\n",
       "    </tr>\n",
       "    <tr>\n",
       "      <th>4</th>\n",
       "      <td>17.079826</td>\n",
       "      <td>0</td>\n",
       "      <td>0</td>\n",
       "      <td>2024-06-01 19:50:28</td>\n",
       "    </tr>\n",
       "    <tr>\n",
       "      <th>...</th>\n",
       "      <td>...</td>\n",
       "      <td>...</td>\n",
       "      <td>...</td>\n",
       "      <td>...</td>\n",
       "    </tr>\n",
       "    <tr>\n",
       "      <th>9995</th>\n",
       "      <td>26.460733</td>\n",
       "      <td>0</td>\n",
       "      <td>0</td>\n",
       "      <td>2024-06-01 19:50:29</td>\n",
       "    </tr>\n",
       "    <tr>\n",
       "      <th>9996</th>\n",
       "      <td>22.027875</td>\n",
       "      <td>0</td>\n",
       "      <td>0</td>\n",
       "      <td>2024-06-01 19:50:29</td>\n",
       "    </tr>\n",
       "    <tr>\n",
       "      <th>9997</th>\n",
       "      <td>17.917821</td>\n",
       "      <td>0</td>\n",
       "      <td>0</td>\n",
       "      <td>2024-06-01 19:50:29</td>\n",
       "    </tr>\n",
       "    <tr>\n",
       "      <th>9998</th>\n",
       "      <td>23.730639</td>\n",
       "      <td>0</td>\n",
       "      <td>1</td>\n",
       "      <td>2024-06-01 19:50:29</td>\n",
       "    </tr>\n",
       "    <tr>\n",
       "      <th>9999</th>\n",
       "      <td>25.680470</td>\n",
       "      <td>0</td>\n",
       "      <td>1</td>\n",
       "      <td>2024-06-01 19:50:29</td>\n",
       "    </tr>\n",
       "  </tbody>\n",
       "</table>\n",
       "<p>10000 rows × 4 columns</p>\n",
       "</div>"
      ],
      "text/plain": [
       "      Temperature  Anomaly  Location           date_time\n",
       "0       24.476332        0         1 2024-06-01 19:50:28\n",
       "1       18.253966        0         0 2024-06-01 19:50:28\n",
       "2       14.953520        0         1 2024-06-01 19:50:28\n",
       "3       17.667181        0         0 2024-06-01 19:50:28\n",
       "4       17.079826        0         0 2024-06-01 19:50:28\n",
       "...           ...      ...       ...                 ...\n",
       "9995    26.460733        0         0 2024-06-01 19:50:29\n",
       "9996    22.027875        0         0 2024-06-01 19:50:29\n",
       "9997    17.917821        0         0 2024-06-01 19:50:29\n",
       "9998    23.730639        0         1 2024-06-01 19:50:29\n",
       "9999    25.680470        0         1 2024-06-01 19:50:29\n",
       "\n",
       "[10000 rows x 4 columns]"
      ]
     },
     "execution_count": 27,
     "metadata": {},
     "output_type": "execute_result"
    }
   ],
   "source": [
    "# after add the new column of 'Timestamp' drop the existing columns\n",
    "df3 = df2.drop(columns=['Timestamp'])\n",
    "df3"
   ]
  },
  {
   "cell_type": "code",
   "execution_count": 28,
   "id": "3994bd6a-f54d-48db-aef1-cda7ae3c7205",
   "metadata": {},
   "outputs": [
    {
     "data": {
      "text/plain": [
       "<Axes: >"
      ]
     },
     "execution_count": 28,
     "metadata": {},
     "output_type": "execute_result"
    },
    {
     "data": {
      "image/png": "[encoded data removed]",
      "text/plain": [
       "<Figure size 640x480 with 2 Axes>"
      ]
     },
     "metadata": {},
     "output_type": "display_data"
    }
   ],
   "source": [
    "# Need to verify any columns are highly correlated using Heatmap. If any columns correalaion value >= 0.7 (absolute value), drop the columns.\n",
    "\n",
    "col = ['Temperature','Anomaly','Location']\n",
    "df_heatmap = df3[col].corr()\n",
    "sns.heatmap(df_heatmap, annot=True)"
   ]
  },
  {
   "cell_type": "code",
   "execution_count": 29,
   "id": "63e1d129-cff5-4d2f-9181-edd4b794a5ac",
   "metadata": {},
   "outputs": [
    {
     "data": {
      "text/html": [
       "<div>\n",
       "<style scoped>\n",
       "    .dataframe tbody tr th:only-of-type {\n",
       "        vertical-align: middle;\n",
       "    }\n",
       "\n",
       "    .dataframe tbody tr th {\n",
       "        vertical-align: top;\n",
       "    }\n",
       "\n",
       "    .dataframe thead th {\n",
       "        text-align: right;\n",
       "    }\n",
       "</style>\n",
       "<table border=\"1\" class=\"dataframe\">\n",
       "  <thead>\n",
       "    <tr style=\"text-align: right;\">\n",
       "      <th></th>\n",
       "      <th>Temperature</th>\n",
       "      <th>Anomaly</th>\n",
       "      <th>Location</th>\n",
       "      <th>date_time</th>\n",
       "    </tr>\n",
       "  </thead>\n",
       "  <tbody>\n",
       "    <tr>\n",
       "      <th>0</th>\n",
       "      <td>24.476332</td>\n",
       "      <td>0</td>\n",
       "      <td>1</td>\n",
       "      <td>2024-06-01 19:50:28</td>\n",
       "    </tr>\n",
       "    <tr>\n",
       "      <th>1</th>\n",
       "      <td>18.253966</td>\n",
       "      <td>0</td>\n",
       "      <td>0</td>\n",
       "      <td>2024-06-01 19:50:28</td>\n",
       "    </tr>\n",
       "    <tr>\n",
       "      <th>2</th>\n",
       "      <td>14.953520</td>\n",
       "      <td>0</td>\n",
       "      <td>1</td>\n",
       "      <td>2024-06-01 19:50:28</td>\n",
       "    </tr>\n",
       "    <tr>\n",
       "      <th>3</th>\n",
       "      <td>17.667181</td>\n",
       "      <td>0</td>\n",
       "      <td>0</td>\n",
       "      <td>2024-06-01 19:50:28</td>\n",
       "    </tr>\n",
       "    <tr>\n",
       "      <th>4</th>\n",
       "      <td>17.079826</td>\n",
       "      <td>0</td>\n",
       "      <td>0</td>\n",
       "      <td>2024-06-01 19:50:28</td>\n",
       "    </tr>\n",
       "    <tr>\n",
       "      <th>...</th>\n",
       "      <td>...</td>\n",
       "      <td>...</td>\n",
       "      <td>...</td>\n",
       "      <td>...</td>\n",
       "    </tr>\n",
       "    <tr>\n",
       "      <th>9995</th>\n",
       "      <td>26.460733</td>\n",
       "      <td>0</td>\n",
       "      <td>0</td>\n",
       "      <td>2024-06-01 19:50:29</td>\n",
       "    </tr>\n",
       "    <tr>\n",
       "      <th>9996</th>\n",
       "      <td>22.027875</td>\n",
       "      <td>0</td>\n",
       "      <td>0</td>\n",
       "      <td>2024-06-01 19:50:29</td>\n",
       "    </tr>\n",
       "    <tr>\n",
       "      <th>9997</th>\n",
       "      <td>17.917821</td>\n",
       "      <td>0</td>\n",
       "      <td>0</td>\n",
       "      <td>2024-06-01 19:50:29</td>\n",
       "    </tr>\n",
       "    <tr>\n",
       "      <th>9998</th>\n",
       "      <td>23.730639</td>\n",
       "      <td>0</td>\n",
       "      <td>1</td>\n",
       "      <td>2024-06-01 19:50:29</td>\n",
       "    </tr>\n",
       "    <tr>\n",
       "      <th>9999</th>\n",
       "      <td>25.680470</td>\n",
       "      <td>0</td>\n",
       "      <td>1</td>\n",
       "      <td>2024-06-01 19:50:29</td>\n",
       "    </tr>\n",
       "  </tbody>\n",
       "</table>\n",
       "<p>10000 rows × 4 columns</p>\n",
       "</div>"
      ],
      "text/plain": [
       "      Temperature  Anomaly  Location           date_time\n",
       "0       24.476332        0         1 2024-06-01 19:50:28\n",
       "1       18.253966        0         0 2024-06-01 19:50:28\n",
       "2       14.953520        0         1 2024-06-01 19:50:28\n",
       "3       17.667181        0         0 2024-06-01 19:50:28\n",
       "4       17.079826        0         0 2024-06-01 19:50:28\n",
       "...           ...      ...       ...                 ...\n",
       "9995    26.460733        0         0 2024-06-01 19:50:29\n",
       "9996    22.027875        0         0 2024-06-01 19:50:29\n",
       "9997    17.917821        0         0 2024-06-01 19:50:29\n",
       "9998    23.730639        0         1 2024-06-01 19:50:29\n",
       "9999    25.680470        0         1 2024-06-01 19:50:29\n",
       "\n",
       "[10000 rows x 4 columns]"
      ]
     },
     "execution_count": 29,
     "metadata": {},
     "output_type": "execute_result"
    }
   ],
   "source": [
    "df4 = df3.copy()\n",
    "df4"
   ]
  },
  {
   "cell_type": "code",
   "execution_count": 30,
   "id": "622c6daa-27df-437c-a1fd-8645078f394e",
   "metadata": {},
   "outputs": [],
   "source": [
    "# split the day, month, and year from 'datetime' column and add dataframe (This data also help us to prediction)\n",
    "\n",
    "df4['day'] = df4['date_time'].dt.day\n",
    "df4['month'] = df4['date_time'].dt.month\n",
    "df4['year'] = df4['date_time'].dt.year\n",
    "df4['hour'] = df4['date_time'].dt.hour\n",
    "df4['minute'] = df4['date_time'].dt.minute\n",
    "df4['second'] = df4['date_time'].dt.second"
   ]
  },
  {
   "cell_type": "code",
   "execution_count": 31,
   "id": "ffece63b-6025-4ad9-aee2-31837f40444f",
   "metadata": {},
   "outputs": [
    {
     "data": {
      "text/html": [
       "<div>\n",
       "<style scoped>\n",
       "    .dataframe tbody tr th:only-of-type {\n",
       "        vertical-align: middle;\n",
       "    }\n",
       "\n",
       "    .dataframe tbody tr th {\n",
       "        vertical-align: top;\n",
       "    }\n",
       "\n",
       "    .dataframe thead th {\n",
       "        text-align: right;\n",
       "    }\n",
       "</style>\n",
       "<table border=\"1\" class=\"dataframe\">\n",
       "  <thead>\n",
       "    <tr style=\"text-align: right;\">\n",
       "      <th></th>\n",
       "      <th>Temperature</th>\n",
       "      <th>Anomaly</th>\n",
       "      <th>Location</th>\n",
       "      <th>date_time</th>\n",
       "      <th>day</th>\n",
       "      <th>month</th>\n",
       "      <th>year</th>\n",
       "      <th>hour</th>\n",
       "      <th>minute</th>\n",
       "      <th>second</th>\n",
       "    </tr>\n",
       "  </thead>\n",
       "  <tbody>\n",
       "    <tr>\n",
       "      <th>0</th>\n",
       "      <td>24.476332</td>\n",
       "      <td>0</td>\n",
       "      <td>1</td>\n",
       "      <td>2024-06-01 19:50:28</td>\n",
       "      <td>1</td>\n",
       "      <td>6</td>\n",
       "      <td>2024</td>\n",
       "      <td>19</td>\n",
       "      <td>50</td>\n",
       "      <td>28</td>\n",
       "    </tr>\n",
       "    <tr>\n",
       "      <th>1</th>\n",
       "      <td>18.253966</td>\n",
       "      <td>0</td>\n",
       "      <td>0</td>\n",
       "      <td>2024-06-01 19:50:28</td>\n",
       "      <td>1</td>\n",
       "      <td>6</td>\n",
       "      <td>2024</td>\n",
       "      <td>19</td>\n",
       "      <td>50</td>\n",
       "      <td>28</td>\n",
       "    </tr>\n",
       "    <tr>\n",
       "      <th>2</th>\n",
       "      <td>14.953520</td>\n",
       "      <td>0</td>\n",
       "      <td>1</td>\n",
       "      <td>2024-06-01 19:50:28</td>\n",
       "      <td>1</td>\n",
       "      <td>6</td>\n",
       "      <td>2024</td>\n",
       "      <td>19</td>\n",
       "      <td>50</td>\n",
       "      <td>28</td>\n",
       "    </tr>\n",
       "    <tr>\n",
       "      <th>3</th>\n",
       "      <td>17.667181</td>\n",
       "      <td>0</td>\n",
       "      <td>0</td>\n",
       "      <td>2024-06-01 19:50:28</td>\n",
       "      <td>1</td>\n",
       "      <td>6</td>\n",
       "      <td>2024</td>\n",
       "      <td>19</td>\n",
       "      <td>50</td>\n",
       "      <td>28</td>\n",
       "    </tr>\n",
       "    <tr>\n",
       "      <th>4</th>\n",
       "      <td>17.079826</td>\n",
       "      <td>0</td>\n",
       "      <td>0</td>\n",
       "      <td>2024-06-01 19:50:28</td>\n",
       "      <td>1</td>\n",
       "      <td>6</td>\n",
       "      <td>2024</td>\n",
       "      <td>19</td>\n",
       "      <td>50</td>\n",
       "      <td>28</td>\n",
       "    </tr>\n",
       "    <tr>\n",
       "      <th>...</th>\n",
       "      <td>...</td>\n",
       "      <td>...</td>\n",
       "      <td>...</td>\n",
       "      <td>...</td>\n",
       "      <td>...</td>\n",
       "      <td>...</td>\n",
       "      <td>...</td>\n",
       "      <td>...</td>\n",
       "      <td>...</td>\n",
       "      <td>...</td>\n",
       "    </tr>\n",
       "    <tr>\n",
       "      <th>9995</th>\n",
       "      <td>26.460733</td>\n",
       "      <td>0</td>\n",
       "      <td>0</td>\n",
       "      <td>2024-06-01 19:50:29</td>\n",
       "      <td>1</td>\n",
       "      <td>6</td>\n",
       "      <td>2024</td>\n",
       "      <td>19</td>\n",
       "      <td>50</td>\n",
       "      <td>29</td>\n",
       "    </tr>\n",
       "    <tr>\n",
       "      <th>9996</th>\n",
       "      <td>22.027875</td>\n",
       "      <td>0</td>\n",
       "      <td>0</td>\n",
       "      <td>2024-06-01 19:50:29</td>\n",
       "      <td>1</td>\n",
       "      <td>6</td>\n",
       "      <td>2024</td>\n",
       "      <td>19</td>\n",
       "      <td>50</td>\n",
       "      <td>29</td>\n",
       "    </tr>\n",
       "    <tr>\n",
       "      <th>9997</th>\n",
       "      <td>17.917821</td>\n",
       "      <td>0</td>\n",
       "      <td>0</td>\n",
       "      <td>2024-06-01 19:50:29</td>\n",
       "      <td>1</td>\n",
       "      <td>6</td>\n",
       "      <td>2024</td>\n",
       "      <td>19</td>\n",
       "      <td>50</td>\n",
       "      <td>29</td>\n",
       "    </tr>\n",
       "    <tr>\n",
       "      <th>9998</th>\n",
       "      <td>23.730639</td>\n",
       "      <td>0</td>\n",
       "      <td>1</td>\n",
       "      <td>2024-06-01 19:50:29</td>\n",
       "      <td>1</td>\n",
       "      <td>6</td>\n",
       "      <td>2024</td>\n",
       "      <td>19</td>\n",
       "      <td>50</td>\n",
       "      <td>29</td>\n",
       "    </tr>\n",
       "    <tr>\n",
       "      <th>9999</th>\n",
       "      <td>25.680470</td>\n",
       "      <td>0</td>\n",
       "      <td>1</td>\n",
       "      <td>2024-06-01 19:50:29</td>\n",
       "      <td>1</td>\n",
       "      <td>6</td>\n",
       "      <td>2024</td>\n",
       "      <td>19</td>\n",
       "      <td>50</td>\n",
       "      <td>29</td>\n",
       "    </tr>\n",
       "  </tbody>\n",
       "</table>\n",
       "<p>10000 rows × 10 columns</p>\n",
       "</div>"
      ],
      "text/plain": [
       "      Temperature  Anomaly  Location           date_time  day  month  year  \\\n",
       "0       24.476332        0         1 2024-06-01 19:50:28    1      6  2024   \n",
       "1       18.253966        0         0 2024-06-01 19:50:28    1      6  2024   \n",
       "2       14.953520        0         1 2024-06-01 19:50:28    1      6  2024   \n",
       "3       17.667181        0         0 2024-06-01 19:50:28    1      6  2024   \n",
       "4       17.079826        0         0 2024-06-01 19:50:28    1      6  2024   \n",
       "...           ...      ...       ...                 ...  ...    ...   ...   \n",
       "9995    26.460733        0         0 2024-06-01 19:50:29    1      6  2024   \n",
       "9996    22.027875        0         0 2024-06-01 19:50:29    1      6  2024   \n",
       "9997    17.917821        0         0 2024-06-01 19:50:29    1      6  2024   \n",
       "9998    23.730639        0         1 2024-06-01 19:50:29    1      6  2024   \n",
       "9999    25.680470        0         1 2024-06-01 19:50:29    1      6  2024   \n",
       "\n",
       "      hour  minute  second  \n",
       "0       19      50      28  \n",
       "1       19      50      28  \n",
       "2       19      50      28  \n",
       "3       19      50      28  \n",
       "4       19      50      28  \n",
       "...    ...     ...     ...  \n",
       "9995    19      50      29  \n",
       "9996    19      50      29  \n",
       "9997    19      50      29  \n",
       "9998    19      50      29  \n",
       "9999    19      50      29  \n",
       "\n",
       "[10000 rows x 10 columns]"
      ]
     },
     "execution_count": 31,
     "metadata": {},
     "output_type": "execute_result"
    }
   ],
   "source": [
    "df4"
   ]
  },
  {
   "cell_type": "code",
   "execution_count": 32,
   "id": "bdb347ea-8aec-4d49-83ad-dc5bceab6930",
   "metadata": {},
   "outputs": [
    {
     "data": {
      "text/html": [
       "<div>\n",
       "<style scoped>\n",
       "    .dataframe tbody tr th:only-of-type {\n",
       "        vertical-align: middle;\n",
       "    }\n",
       "\n",
       "    .dataframe tbody tr th {\n",
       "        vertical-align: top;\n",
       "    }\n",
       "\n",
       "    .dataframe thead th {\n",
       "        text-align: right;\n",
       "    }\n",
       "</style>\n",
       "<table border=\"1\" class=\"dataframe\">\n",
       "  <thead>\n",
       "    <tr style=\"text-align: right;\">\n",
       "      <th></th>\n",
       "      <th>Temperature</th>\n",
       "      <th>Anomaly</th>\n",
       "      <th>Location</th>\n",
       "      <th>day</th>\n",
       "      <th>month</th>\n",
       "      <th>year</th>\n",
       "      <th>hour</th>\n",
       "      <th>minute</th>\n",
       "      <th>second</th>\n",
       "    </tr>\n",
       "  </thead>\n",
       "  <tbody>\n",
       "    <tr>\n",
       "      <th>0</th>\n",
       "      <td>24.476332</td>\n",
       "      <td>0</td>\n",
       "      <td>1</td>\n",
       "      <td>1</td>\n",
       "      <td>6</td>\n",
       "      <td>2024</td>\n",
       "      <td>19</td>\n",
       "      <td>50</td>\n",
       "      <td>28</td>\n",
       "    </tr>\n",
       "    <tr>\n",
       "      <th>1</th>\n",
       "      <td>18.253966</td>\n",
       "      <td>0</td>\n",
       "      <td>0</td>\n",
       "      <td>1</td>\n",
       "      <td>6</td>\n",
       "      <td>2024</td>\n",
       "      <td>19</td>\n",
       "      <td>50</td>\n",
       "      <td>28</td>\n",
       "    </tr>\n",
       "    <tr>\n",
       "      <th>2</th>\n",
       "      <td>14.953520</td>\n",
       "      <td>0</td>\n",
       "      <td>1</td>\n",
       "      <td>1</td>\n",
       "      <td>6</td>\n",
       "      <td>2024</td>\n",
       "      <td>19</td>\n",
       "      <td>50</td>\n",
       "      <td>28</td>\n",
       "    </tr>\n",
       "    <tr>\n",
       "      <th>3</th>\n",
       "      <td>17.667181</td>\n",
       "      <td>0</td>\n",
       "      <td>0</td>\n",
       "      <td>1</td>\n",
       "      <td>6</td>\n",
       "      <td>2024</td>\n",
       "      <td>19</td>\n",
       "      <td>50</td>\n",
       "      <td>28</td>\n",
       "    </tr>\n",
       "    <tr>\n",
       "      <th>4</th>\n",
       "      <td>17.079826</td>\n",
       "      <td>0</td>\n",
       "      <td>0</td>\n",
       "      <td>1</td>\n",
       "      <td>6</td>\n",
       "      <td>2024</td>\n",
       "      <td>19</td>\n",
       "      <td>50</td>\n",
       "      <td>28</td>\n",
       "    </tr>\n",
       "    <tr>\n",
       "      <th>...</th>\n",
       "      <td>...</td>\n",
       "      <td>...</td>\n",
       "      <td>...</td>\n",
       "      <td>...</td>\n",
       "      <td>...</td>\n",
       "      <td>...</td>\n",
       "      <td>...</td>\n",
       "      <td>...</td>\n",
       "      <td>...</td>\n",
       "    </tr>\n",
       "    <tr>\n",
       "      <th>9995</th>\n",
       "      <td>26.460733</td>\n",
       "      <td>0</td>\n",
       "      <td>0</td>\n",
       "      <td>1</td>\n",
       "      <td>6</td>\n",
       "      <td>2024</td>\n",
       "      <td>19</td>\n",
       "      <td>50</td>\n",
       "      <td>29</td>\n",
       "    </tr>\n",
       "    <tr>\n",
       "      <th>9996</th>\n",
       "      <td>22.027875</td>\n",
       "      <td>0</td>\n",
       "      <td>0</td>\n",
       "      <td>1</td>\n",
       "      <td>6</td>\n",
       "      <td>2024</td>\n",
       "      <td>19</td>\n",
       "      <td>50</td>\n",
       "      <td>29</td>\n",
       "    </tr>\n",
       "    <tr>\n",
       "      <th>9997</th>\n",
       "      <td>17.917821</td>\n",
       "      <td>0</td>\n",
       "      <td>0</td>\n",
       "      <td>1</td>\n",
       "      <td>6</td>\n",
       "      <td>2024</td>\n",
       "      <td>19</td>\n",
       "      <td>50</td>\n",
       "      <td>29</td>\n",
       "    </tr>\n",
       "    <tr>\n",
       "      <th>9998</th>\n",
       "      <td>23.730639</td>\n",
       "      <td>0</td>\n",
       "      <td>1</td>\n",
       "      <td>1</td>\n",
       "      <td>6</td>\n",
       "      <td>2024</td>\n",
       "      <td>19</td>\n",
       "      <td>50</td>\n",
       "      <td>29</td>\n",
       "    </tr>\n",
       "    <tr>\n",
       "      <th>9999</th>\n",
       "      <td>25.680470</td>\n",
       "      <td>0</td>\n",
       "      <td>1</td>\n",
       "      <td>1</td>\n",
       "      <td>6</td>\n",
       "      <td>2024</td>\n",
       "      <td>19</td>\n",
       "      <td>50</td>\n",
       "      <td>29</td>\n",
       "    </tr>\n",
       "  </tbody>\n",
       "</table>\n",
       "<p>10000 rows × 9 columns</p>\n",
       "</div>"
      ],
      "text/plain": [
       "      Temperature  Anomaly  Location  day  month  year  hour  minute  second\n",
       "0       24.476332        0         1    1      6  2024    19      50      28\n",
       "1       18.253966        0         0    1      6  2024    19      50      28\n",
       "2       14.953520        0         1    1      6  2024    19      50      28\n",
       "3       17.667181        0         0    1      6  2024    19      50      28\n",
       "4       17.079826        0         0    1      6  2024    19      50      28\n",
       "...           ...      ...       ...  ...    ...   ...   ...     ...     ...\n",
       "9995    26.460733        0         0    1      6  2024    19      50      29\n",
       "9996    22.027875        0         0    1      6  2024    19      50      29\n",
       "9997    17.917821        0         0    1      6  2024    19      50      29\n",
       "9998    23.730639        0         1    1      6  2024    19      50      29\n",
       "9999    25.680470        0         1    1      6  2024    19      50      29\n",
       "\n",
       "[10000 rows x 9 columns]"
      ]
     },
     "execution_count": 32,
     "metadata": {},
     "output_type": "execute_result"
    }
   ],
   "source": [
    "df5 = df4.drop(columns=['date_time'])\n",
    "df5"
   ]
  },
  {
   "cell_type": "code",
   "execution_count": 33,
   "id": "a3a4c54c-cfbe-4b5e-b0f9-11d6479caef6",
   "metadata": {},
   "outputs": [
    {
     "data": {
      "text/plain": [
       "Temperature    float64\n",
       "Anomaly          int64\n",
       "Location         int64\n",
       "day              int32\n",
       "month            int32\n",
       "year             int32\n",
       "hour             int32\n",
       "minute           int32\n",
       "second           int32\n",
       "dtype: object"
      ]
     },
     "execution_count": 33,
     "metadata": {},
     "output_type": "execute_result"
    }
   ],
   "source": [
    "df5.dtypes"
   ]
  },
  {
   "cell_type": "code",
   "execution_count": 34,
   "id": "742d009d-530a-495a-ad68-258a92fea6d5",
   "metadata": {},
   "outputs": [],
   "source": [
    "from sklearn.preprocessing import OrdinalEncoder\n",
    "from sklearn.model_selection import train_test_split, GridSearchCV\n",
    "from sklearn import metrics\n",
    "from sklearn.tree import DecisionTreeClassifier\n",
    "from sklearn.ensemble import ExtraTreesClassifier\n",
    "from sklearn.ensemble import RandomForestClassifier\n",
    "from sklearn.ensemble import AdaBoostClassifier\n",
    "from sklearn.ensemble import GradientBoostingClassifier\n",
    "from xgboost import XGBClassifier\n",
    "from sklearn.metrics import confusion_matrix, classification_report, roc_curve, auc\n",
    "from sklearn.metrics import classification_report, accuracy_score, confusion_matrix\n",
    "import pickle"
   ]
  },
  {
   "cell_type": "code",
   "execution_count": 35,
   "id": "6dc5dcd4-1ec2-433a-b496-eb1e388e6ca6",
   "metadata": {},
   "outputs": [
    {
     "data": {
      "text/plain": [
       "Anomaly\n",
       "0    9771\n",
       "1     229\n",
       "Name: count, dtype: int64"
      ]
     },
     "execution_count": 35,
     "metadata": {},
     "output_type": "execute_result"
    }
   ],
   "source": [
    "df5.Anomaly.value_counts()"
   ]
  },
  {
   "cell_type": "code",
   "execution_count": 36,
   "id": "2c81e958-548a-40fd-9ac8-e1f0f046dd7d",
   "metadata": {},
   "outputs": [],
   "source": [
    "X = df5.drop('Anomaly', axis=1)\n",
    "y = df5['Anomaly']"
   ]
  },
  {
   "cell_type": "code",
   "execution_count": null,
   "id": "dbf2ca3e-dfe0-48b9-92d3-c851bf3f9ae7",
   "metadata": {},
   "outputs": [],
   "source": [
    "#Balancing the dataset using smoteENN\n",
    "smote_enn = SMOTEENN(random_state=42)\n",
    "X_resampled, y_resampled = smote_enn.fit_resample(X, y)"
   ]
  },
  {
   "cell_type": "code",
   "execution_count": null,
   "id": "99a2c092-aaf7-4ff4-bda9-962db7ae3d87",
   "metadata": {},
   "outputs": [],
   "source": [
    "X.shape, y.shape, X_resampled.shape, y_resampled.shape"
   ]
  },
  {
   "cell_type": "code",
   "execution_count": 37,
   "id": "5f80306b-7f17-472a-b258-defc97159792",
   "metadata": {},
   "outputs": [],
   "source": [
    "# check the accuracy of training and testing using metrics\n",
    "# algorithm.__name__  - it return the algorithm name\n",
    "\n",
    "def machine_learning_classification(X_resampled,y_resampled, algorithm):\n",
    "\n",
    "    model = algorithm().fit(X, y)\n",
    "    \n",
    "    X_train, X_test, y_train, y_test = train_test_split(X, y, test_size=0.2, random_state=42)\n",
    "\n",
    "    y_pred_train = model.predict(X_train)\n",
    "    y_pred_test = model.predict(X_test)\n",
    "\n",
    "    accuracy_train = metrics.accuracy_score(y_train, y_pred_train)\n",
    "    accuracy_test = metrics.accuracy_score(y_test, y_pred_test)\n",
    "\n",
    "    # algo = str(algorithm).split(\"'\")[1].split(\".\")[-1]\n",
    "    accuracy_metrics = {'algorithm'    : algorithm.__name__,\n",
    "                        'accuracy_train': accuracy_train,\n",
    "                        'accuracy_test' : accuracy_test}\n",
    "\n",
    "    return accuracy_metrics"
   ]
  },
  {
   "cell_type": "code",
   "execution_count": 38,
   "id": "38da5629-5937-4858-a511-eb97474c5ae7",
   "metadata": {},
   "outputs": [
    {
     "name": "stdout",
     "output_type": "stream",
     "text": [
      "{'algorithm': 'DecisionTreeClassifier', 'accuracy_train': 0.99875, 'accuracy_test': 0.9975}\n",
      "{'algorithm': 'ExtraTreesClassifier', 'accuracy_train': 0.99875, 'accuracy_test': 0.9975}\n",
      "{'algorithm': 'RandomForestClassifier', 'accuracy_train': 0.99875, 'accuracy_test': 0.9975}\n"
     ]
    },
    {
     "name": "stderr",
     "output_type": "stream",
     "text": [
      "C:\\Users\\91916\\AppData\\Local\\Programs\\Python\\Python310\\lib\\site-packages\\sklearn\\ensemble\\_weight_boosting.py:519: FutureWarning: The SAMME.R algorithm (the default) is deprecated and will be removed in 1.6. Use the SAMME algorithm to circumvent this warning.\n",
      "  warnings.warn(\n"
     ]
    },
    {
     "name": "stdout",
     "output_type": "stream",
     "text": [
      "{'algorithm': 'AdaBoostClassifier', 'accuracy_train': 0.99875, 'accuracy_test': 0.9975}\n",
      "{'algorithm': 'GradientBoostingClassifier', 'accuracy_train': 0.99875, 'accuracy_test': 0.9975}\n",
      "{'algorithm': 'XGBClassifier', 'accuracy_train': 0.99475, 'accuracy_test': 0.994}\n"
     ]
    }
   ],
   "source": [
    "print(machine_learning_classification(X,y, DecisionTreeClassifier))\n",
    "print(machine_learning_classification(X,y, ExtraTreesClassifier))\n",
    "print(machine_learning_classification(X,y, RandomForestClassifier))\n",
    "print(machine_learning_classification(X,y, AdaBoostClassifier))\n",
    "print(machine_learning_classification(X,y, GradientBoostingClassifier))\n",
    "print(machine_learning_classification(X,y, XGBClassifier))"
   ]
  },
  {
   "cell_type": "code",
   "execution_count": null,
   "id": "12ea0e5d-40d9-47cc-94ab-85ac24ba760c",
   "metadata": {},
   "outputs": [],
   "source": [
    "#Gridsearch for XGB classifier\n",
    "X_train, X_test, y_train, y_test = train_test_split(X,y,test_size=0.2,random_state=42)\n",
    "\n",
    "param_grid = {\n",
    "    'n_estimators': [50, 100, 200],\n",
    "    'max_depth': [3, 4, 5, 6],\n",
    "    'learning_rate': [0.01, 0.1, 0.2],\n",
    "    'subsample': [0.8, 0.9, 1.0],\n",
    "    'colsample_bytree': [0.8, 0.9, 1.0],\n",
    "    'gamma': [0, 0.1, 0.2],\n",
    "    'min_child_weight': [1, 2, 3]\n",
    "}\n",
    "\n",
    "grid_search = GridSearchCV(estimator=XGBClassifier(), param_grid=param_grid, cv=5, scoring='accuracy', n_jobs=-1, verbose=2)\n",
    "grid_search.fit(X_train, y_train)"
   ]
  },
  {
   "cell_type": "code",
   "execution_count": null,
   "id": "86a87412-ccd8-49a3-8541-63983eea733e",
   "metadata": {},
   "outputs": [],
   "source": [
    "# Print the best parameters and best score\n",
    "print(\"Best parameters found: \", grid_search.best_params_)\n",
    "print(\"Best accuracy score: \", grid_search.best_score_)"
   ]
  },
  {
   "cell_type": "code",
   "execution_count": null,
   "id": "46a29e29-0331-4a8e-8c8c-ea8c6c413273",
   "metadata": {},
   "outputs": [],
   "source": [
    "# Evaluate the model with the best parameters on the test set\n",
    "best_model = grid_search.best_estimator_\n",
    "y_pred = best_model.predict(X_test)\n",
    "accuracy = accuracy_score(y_test, y_pred)\n",
    "print(\"Test set accuracy: \", accuracy)"
   ]
  },
  {
   "cell_type": "code",
   "execution_count": 39,
   "id": "ef22d583-f1a8-4538-b518-9f7ffc7e41eb",
   "metadata": {},
   "outputs": [
    {
     "data": {
      "text/plain": [
       "(0.994875, 0.9945)"
      ]
     },
     "execution_count": 39,
     "metadata": {},
     "output_type": "execute_result"
    }
   ],
   "source": [
    "# passing the parameters in the random forest algorithm and check the accuracy for training and testing\n",
    "\n",
    "X_train, X_test, y_train, y_test = train_test_split(X,y,test_size=0.2,random_state=42)\n",
    "\n",
    "model = XGBClassifier(colsample_bytree= 0.8, gamma=0, learning_rate=0.01, max_depth= 3, min_child_weight=1, n_estimators= 200, subsample= 0.8).fit(X_train, y_train)\n",
    "y_pred_train = model.predict(X_train)\n",
    "y_pred_test = model.predict(X_test)\n",
    "accuracy_train = metrics.accuracy_score(y_train, y_pred_train)\n",
    "accuracy_test = metrics.accuracy_score(y_test, y_pred_test)\n",
    "accuracy_train, accuracy_test"
   ]
  },
  {
   "cell_type": "code",
   "execution_count": 40,
   "id": "70ff4a31-49e9-4d1f-a586-037e024cac55",
   "metadata": {},
   "outputs": [
    {
     "name": "stdout",
     "output_type": "stream",
     "text": [
      "              precision    recall  f1-score   support\n",
      "\n",
      "           0       1.00      0.99      1.00      1959\n",
      "           1       0.79      1.00      0.88        41\n",
      "\n",
      "    accuracy                           0.99      2000\n",
      "   macro avg       0.89      1.00      0.94      2000\n",
      "weighted avg       1.00      0.99      0.99      2000\n",
      "\n",
      "[[1948   11]\n",
      " [   0   41]]\n",
      "Accuracy: 0.99\n"
     ]
    }
   ],
   "source": [
    "from sklearn.metrics import classification_report, accuracy_score, confusion_matrix\n",
    "# predict the status and check the accuracy using metrics\n",
    "\n",
    "X_train, X_test, y_train, y_test = train_test_split(X,y,test_size=0.2,random_state=42)\n",
    "\n",
    "model = XGBClassifier(colsample_bytree= 0.8, gamma=0, learning_rate=0.01, max_depth= 3, min_child_weight=1, n_estimators= 200, subsample= 0.8).fit(X_train, y_train)\n",
    "y_pred = model.predict(X_test)\n",
    "\n",
    "print(classification_report(y_test, y_pred))\n",
    "cm = confusion_matrix(y_test, y_pred)\n",
    "print(cm)\n",
    "accuracy = accuracy_score(y_test, y_pred)\n",
    "print(f\"Accuracy: {accuracy:.2f}\")"
   ]
  },
  {
   "cell_type": "code",
   "execution_count": 41,
   "id": "893d0ee1-0949-4260-aaec-28fafff8df01",
   "metadata": {},
   "outputs": [
    {
     "name": "stdout",
     "output_type": "stream",
     "text": [
      "0.9971924451250639\n"
     ]
    }
   ],
   "source": [
    "# Receiver Operating Characteristic (ROC) Curve and Area Under the Curve (AUC)\n",
    "\n",
    "FP,TP,threshold = roc_curve(y_true=y_test, y_score=y_pred)\n",
    "auc_curve = auc(x=FP, y=TP)\n",
    "print(auc_curve)"
   ]
  },
  {
   "cell_type": "code",
   "execution_count": 42,
   "id": "03d5d6c6-27da-4ffc-a8d6-f73b94f1d05f",
   "metadata": {},
   "outputs": [
    {
     "data": {
      "image/png": "[encoded data removed]",
      "text/plain": [
       "<Figure size 640x480 with 1 Axes>"
      ]
     },
     "metadata": {},
     "output_type": "display_data"
    }
   ],
   "source": [
    "plt.plot(FP, TP, label=f\"ROC Curve (area={round(auc_curve, 2)}) \")\n",
    "plt.plot([0, 1], [0, 1], 'k--')\n",
    "plt.xlim([0.0, 1.0])\n",
    "plt.ylim([0.0, 1.10])\n",
    "plt.xlabel('False Positive Rate')\n",
    "plt.ylabel('True Positive Rate')\n",
    "plt.legend(loc='lower right')\n",
    "plt.show()"
   ]
  },
  {
   "cell_type": "code",
   "execution_count": 43,
   "id": "5752d0a3-bfd3-420a-b88c-62b39d1f7fb8",
   "metadata": {},
   "outputs": [
    {
     "name": "stdout",
     "output_type": "stream",
     "text": [
      "0\n"
     ]
    }
   ],
   "source": [
    "# will pass the user data manually to check the prediction of status ar our model\n",
    "\n",
    "user_data = np.array([[24.4,1,1,6,2024,19,50,28]])\n",
    "y_p = model.predict(user_data)\n",
    "if y_p[0] == 1:\n",
    "    print('1')\n",
    "else:\n",
    "    print('0')"
   ]
  },
  {
   "cell_type": "code",
   "execution_count": 45,
   "id": "65f7302a-599f-43dc-880d-153b61257665",
   "metadata": {},
   "outputs": [
    {
     "name": "stdout",
     "output_type": "stream",
     "text": [
      "1\n"
     ]
    }
   ],
   "source": [
    "# will pass the user data manually to check the prediction of status ar our model\n",
    "\n",
    "user_data = np.array([[39.0,0,1,6,2024,19,50,28]])\n",
    "y_p = model.predict(user_data)\n",
    "if y_p[0] == 1:\n",
    "    print('1')\n",
    "else:\n",
    "    print('0')"
   ]
  },
  {
   "cell_type": "code",
   "execution_count": 46,
   "id": "2bf3c8d6-262b-425b-9951-8890aa6d136c",
   "metadata": {},
   "outputs": [
    {
     "name": "stdout",
     "output_type": "stream",
     "text": [
      "[0.9925 0.9945 0.995  0.9945 0.9945]\n",
      "Cross-validation accuracy: 0.9942\n"
     ]
    }
   ],
   "source": [
    "from sklearn.model_selection import cross_val_score\n",
    "cv_scores = cross_val_score(model, X,y, cv=5, scoring='accuracy')\n",
    "print(cv_scores)\n",
    "print(f\"Cross-validation accuracy: {cv_scores.mean()}\")"
   ]
  },
  {
   "cell_type": "code",
   "execution_count": null,
   "id": "4f17f6cb-2a6c-44d8-b904-7f99e8e92c46",
   "metadata": {},
   "outputs": [],
   "source": []
  }
 ],
 "metadata": {
  "kernelspec": {
   "display_name": "Python 3 (ipykernel)",
   "language": "python",
   "name": "python3"
  },
  "language_info": {
   "codemirror_mode": {
    "name": "ipython",
    "version": 3
   },
   "file_extension": ".py",
   "mimetype": "text/x-python",
   "name": "python",
   "nbconvert_exporter": "python",
   "pygments_lexer": "ipython3",
   "version": "3.10.11"
  }
 },
 "nbformat": 4,
 "nbformat_minor": 5
}
